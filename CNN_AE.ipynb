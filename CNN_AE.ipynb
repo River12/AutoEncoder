{
 "cells": [
  {
   "cell_type": "code",
   "execution_count": 1,
   "metadata": {},
   "outputs": [],
   "source": [
    "\"\"\"\n",
    "@Description: CNN_AE\n",
    "@Author: Dezhan Tu\n",
    "@LastEditTime: 08/23/2020\n",
    "\"\"\"\n",
    "\n",
    "import numpy as np\n",
    "import os\n",
    "\n",
    "import torch\n",
    "import torch.nn as nn\n",
    "from torch import optim\n",
    "from torch.utils.data import DataLoader\n",
    "\n",
    "from torchvision import transforms\n",
    "from torchvision.datasets import MNIST\n",
    "from torchvision.utils import save_image\n",
    "\n",
    "import matplotlib.pyplot as plt\n",
    "\n",
    "\n",
    "# Define hyperparameters\n",
    "NUM_EPOCHS = 20\n",
    "LEARNING_RATE = 1e-3\n",
    "BATCH_SIZE = 128"
   ]
  },
  {
   "cell_type": "code",
   "execution_count": 10,
   "metadata": {},
   "outputs": [],
   "source": [
    "# Data utility\n",
    "\n",
    "# Convert data to torch.FloatTensor\n",
    "img_transform  = transforms.Compose([transforms.ToTensor()])\n",
    "\n",
    "# Download MNIST Dataset\n",
    "train_dataset = MNIST(\n",
    "    root=\"./dataset\", \n",
    "    train=True, \n",
    "    transform=img_transform, \n",
    "    download=True\n",
    ")\n",
    "\n",
    "test_dataset = MNIST(\n",
    "    root=\"./dataset\", \n",
    "    train=False, \n",
    "    transform=img_transform, \n",
    "    download=True\n",
    ")\n",
    "\n",
    "# Create training and testing datasets\n",
    "train_loader = DataLoader(\n",
    "    train_dataset, \n",
    "    batch_size=BATCH_SIZE, \n",
    "    shuffle=True\n",
    ")\n",
    "\n",
    "test_loader = DataLoader(\n",
    "    test_dataset, \n",
    "    batch_size=BATCH_SIZE, \n",
    "    shuffle=False\n",
    ")\n",
    "\n",
    "\n",
    "def save_epoch_img(img, epoch):\n",
    "    \"\"\"\n",
    "    save img during training process\n",
    "    \"\"\"\n",
    "    img = img.view(img.size(0), 1, 28, 28)\n",
    "    save_image(img, './CNN_AE_Result/CNN_AE_Result{}.png'.format(epoch))\n",
    "\n",
    "\n",
    "def make_dir():\n",
    "    \"\"\"\n",
    "    make directory to store result\n",
    "    \"\"\"\n",
    "    if not os.path.exists('CNN_AE_Result'):\n",
    "        os.makedirs('CNN_AE_Result')\n",
    "        \n",
    "make_dir()    #Create result directory"
   ]
  },
  {
   "cell_type": "code",
   "execution_count": 11,
   "metadata": {},
   "outputs": [],
   "source": [
    "class CNNAE(nn.Module):\n",
    "    \"\"\"\n",
    "    CNNAE Class\n",
    "    \"\"\"\n",
    "    def __init__(self):\n",
    "        \"\"\"\n",
    "        define network structure\n",
    "        \"\"\"\n",
    "        super(CNNAE, self).__init__()\n",
    "        \n",
    "        #Encoder\n",
    "        self.conv1 = nn.Conv2d(1, 16, 3, padding=1)\n",
    "        self.conv2 = nn.Conv2d(16, 4, 3, padding=1)\n",
    "        self.pool = nn.MaxPool2d(2, 2)\n",
    "        \n",
    "        #Decoder\n",
    "        self.t_conv1 = nn.ConvTranspose2d(4, 16, 2, stride=2)\n",
    "        self.t_conv2 = nn.ConvTranspose2d(16, 1, 2, stride=2)\n",
    "        \n",
    "        \n",
    "    \n",
    "    def forward(self, x):\n",
    "        \"\"\"\n",
    "        forward computing\n",
    "        \"\"\"\n",
    "\n",
    "        x = torch.relu(self.conv1(x))\n",
    "        x = self.pool(x)\n",
    "        x = torch.relu(self.conv2(x))\n",
    "        x = self.pool(x)\n",
    "        \n",
    "        x = torch.relu(self.t_conv1(x))\n",
    "        x = torch.sigmoid(self.t_conv2(x))\n",
    "                \n",
    "        return x"
   ]
  },
  {
   "cell_type": "markdown",
   "metadata": {},
   "source": [
    "# Training Process"
   ]
  },
  {
   "cell_type": "code",
   "execution_count": 14,
   "metadata": {},
   "outputs": [
    {
     "name": "stdout",
     "output_type": "stream",
     "text": [
      "Epoch : 1/20, Training loss = 0.076\n",
      "Epoch : 2/20, Training loss = 0.021\n",
      "Epoch : 3/20, Training loss = 0.017\n",
      "Epoch : 4/20, Training loss = 0.016\n",
      "Epoch : 5/20, Training loss = 0.015\n",
      "Epoch : 6/20, Training loss = 0.014\n",
      "Epoch : 7/20, Training loss = 0.013\n",
      "Epoch : 8/20, Training loss = 0.013\n",
      "Epoch : 9/20, Training loss = 0.013\n",
      "Epoch : 10/20, Training loss = 0.012\n",
      "Epoch : 11/20, Training loss = 0.012\n",
      "Epoch : 12/20, Training loss = 0.011\n",
      "Epoch : 13/20, Training loss = 0.010\n",
      "Epoch : 14/20, Training loss = 0.010\n",
      "Epoch : 15/20, Training loss = 0.010\n",
      "Epoch : 16/20, Training loss = 0.009\n",
      "Epoch : 17/20, Training loss = 0.009\n",
      "Epoch : 18/20, Training loss = 0.009\n",
      "Epoch : 19/20, Training loss = 0.009\n",
      "Epoch : 20/20, Training loss = 0.009\n"
     ]
    }
   ],
   "source": [
    "# Use gpu if available\n",
    "device = torch.device(\"cuda\" if torch.cuda.is_available() else \"cpu\")\n",
    "\n",
    "# Instantiate an CNN-AE\n",
    "model = CNNAE().to(device)\n",
    "\n",
    "# Mean-Squared Error Loss\n",
    "criterion = nn.MSELoss()\n",
    "\n",
    "# Adam optimizer\n",
    "optimizer = optim.Adam(model.parameters(), lr=LEARNING_RATE)\n",
    "\n",
    "# Training Process\n",
    "loss_output = []\n",
    "\n",
    "for epoch in range(NUM_EPOCHS):\n",
    "    loss = 0.0  \n",
    "    for img, _ in train_loader:\n",
    "        img = img.to(device)    # Reshape mini-batch data\n",
    "        optimizer.zero_grad()                 # Reset the gradients back to zero\n",
    "        outputs = model(img)                  # Reconstruction\n",
    "        train_loss = criterion(outputs, img)  # Reconstruction loss\n",
    "        train_loss.backward()                 # Compute accumulated gradients\n",
    "        optimizer.step()                      # Parameters update\n",
    "        loss += train_loss.item()             # Add the mini-batch training loss to epoch loss\n",
    "    \n",
    "    \n",
    "    loss = loss / len(train_loader)           # Compute the epoch training loss\n",
    "    loss_output.append(loss)\n",
    "    \n",
    "    # Display the epoch training loss\n",
    "    print(\"Epoch : {}/{}, Training loss = {:.3f}\".\n",
    "          format(epoch + 1, NUM_EPOCHS, loss))\n",
    "    \n",
    "    # Save result\n",
    "    if epoch % 10 == 0:\n",
    "        save_epoch_img(outputs.cpu().data, epoch)"
   ]
  },
  {
   "cell_type": "code",
   "execution_count": 15,
   "metadata": {},
   "outputs": [
    {
     "data": {
      "image/png": "[encoded data removed]",
      "text/plain": [
       "<Figure size 432x288 with 1 Axes>"
      ]
     },
     "metadata": {
      "needs_background": "light"
     },
     "output_type": "display_data"
    }
   ],
   "source": [
    "# Visulize the loss \n",
    "plt.figure()\n",
    "plt.plot(loss_output)\n",
    "plt.title('Training Loss')\n",
    "plt.xlabel('Epochs')\n",
    "plt.ylabel('Loss')\n",
    "plt.savefig('./CNN_AE_Result/CNN_AE_Train_Loss.png')"
   ]
  },
  {
   "cell_type": "markdown",
   "metadata": {},
   "source": [
    "# Testing Process"
   ]
  },
  {
   "cell_type": "code",
   "execution_count": 16,
   "metadata": {},
   "outputs": [],
   "source": [
    "#Testing Process\n",
    "i = 0\n",
    "for img, _ in test_loader:\n",
    "    img = img.to(device)                  # Reshape mini-batch data\n",
    "    outputs = model(img)                  # Reconstruction\n",
    "    outputs = outputs.view(outputs.size(0), 1, 28, 28).cpu().data\n",
    "    \n",
    "    i = i + 1 \n",
    "    save_image(outputs, './CNN_AE_Result/test_result_{}.png'.format(i))"
   ]
  },
  {
   "cell_type": "code",
   "execution_count": null,
   "metadata": {},
   "outputs": [],
   "source": []
  }
 ],
 "metadata": {
  "kernelspec": {
   "display_name": "Python 3",
   "language": "python",
   "name": "python3"
  },
  "language_info": {
   "codemirror_mode": {
    "name": "ipython",
    "version": 3
   },
   "file_extension": ".py",
   "mimetype": "text/x-python",
   "name": "python",
   "nbconvert_exporter": "python",
   "pygments_lexer": "ipython3",
   "version": "3.8.3"
  }
 },
 "nbformat": 4,
 "nbformat_minor": 4
}
